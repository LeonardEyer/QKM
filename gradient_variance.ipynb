{
 "cells": [
  {
   "cell_type": "code",
   "id": "initial_id",
   "metadata": {
    "collapsed": true,
    "ExecuteTime": {
     "end_time": "2024-06-23T21:48:14.074670Z",
     "start_time": "2024-06-23T21:48:13.025926Z"
    }
   },
   "source": [
    "from pennylane import numpy as np\n",
    "import pennylane as qml\n",
    "from kernels import *\n",
    "from tqdm.notebook import tqdm"
   ],
   "outputs": [],
   "execution_count": 1
  },
  {
   "metadata": {
    "ExecuteTime": {
     "end_time": "2024-06-23T21:48:14.081570Z",
     "start_time": "2024-06-23T21:48:14.076030Z"
    }
   },
   "cell_type": "code",
   "source": [
    "def make_gradient_kernel(kernel):\n",
    "    def f(params):\n",
    "        return kernel(params[0], params[1])\n",
    "    \n",
    "    def grad_f(params):\n",
    "        params = np.array(params, requires_grad=True)\n",
    "        return qml.jacobian(f)(params)\n",
    "    \n",
    "    return grad_f\n",
    "\n",
    "def variance(f, params, N):\n",
    "    return np.var([f(params) for _ in range(N)])\n",
    "\n",
    "def variance_over_range(f, N, extent=2 * np.pi):    \n",
    "    values = tqdm([(x, y) for x in np.linspace(0, extent, N) for y in  np.linspace(0, extent, N)])\n",
    "    \n",
    "    res = np.array(list(ap(lambda p: variance(f, p, 10), values)))\n",
    "    return np.var(res)"
   ],
   "id": "5678aac6927ea8c1",
   "outputs": [],
   "execution_count": 2
  },
  {
   "metadata": {
    "ExecuteTime": {
     "end_time": "2024-06-23T21:48:15.115067Z",
     "start_time": "2024-06-23T21:48:14.083780Z"
    }
   },
   "cell_type": "code",
   "source": [
    "trial_kernels = {\n",
    "    'XYZ': K_layered,\n",
    "    'L-prod': K_L_prod,\n",
    "    'L-tower': K_L_tower,\n",
    "    'L-cheb': K_L_cheb,\n",
    "}\n",
    "\n",
    "for (label, kernel) in trial_kernels.items():\n",
    "    k = kernel(8, n_layers=2, qml_backend=\"qiskit.aer\", diff_method=\"parameter-shift\")\n",
    "    f = make_gradient_kernel(k)\n",
    "    print(f\"Variance of {label} kernel: {variance_over_range(f, 10)}\")"
   ],
   "id": "8bfa1f9a29c9cb35",
   "outputs": [
    {
     "data": {
      "text/plain": [
       "  0%|          | 0/100 [00:00<?, ?it/s]"
      ],
      "application/vnd.jupyter.widget-view+json": {
       "version_major": 2,
       "version_minor": 0,
       "model_id": "82cedf5b106c4472a32afed2fe4f0e90"
      }
     },
     "metadata": {},
     "output_type": "display_data"
    },
    {
     "ename": "NameError",
     "evalue": "name 'ap' is not defined",
     "output_type": "error",
     "traceback": [
      "\u001B[0;31m---------------------------------------------------------------------------\u001B[0m",
      "\u001B[0;31mNameError\u001B[0m                                 Traceback (most recent call last)",
      "Cell \u001B[0;32mIn[3], line 11\u001B[0m\n\u001B[1;32m      9\u001B[0m k \u001B[38;5;241m=\u001B[39m kernel(\u001B[38;5;241m8\u001B[39m, n_layers\u001B[38;5;241m=\u001B[39m\u001B[38;5;241m2\u001B[39m, qml_backend\u001B[38;5;241m=\u001B[39m\u001B[38;5;124m\"\u001B[39m\u001B[38;5;124mqiskit.aer\u001B[39m\u001B[38;5;124m\"\u001B[39m, diff_method\u001B[38;5;241m=\u001B[39m\u001B[38;5;124m\"\u001B[39m\u001B[38;5;124mparameter-shift\u001B[39m\u001B[38;5;124m\"\u001B[39m)\n\u001B[1;32m     10\u001B[0m f \u001B[38;5;241m=\u001B[39m make_gradient_kernel(k)\n\u001B[0;32m---> 11\u001B[0m \u001B[38;5;28mprint\u001B[39m(\u001B[38;5;124mf\u001B[39m\u001B[38;5;124m\"\u001B[39m\u001B[38;5;124mVariance of \u001B[39m\u001B[38;5;132;01m{\u001B[39;00mlabel\u001B[38;5;132;01m}\u001B[39;00m\u001B[38;5;124m kernel: \u001B[39m\u001B[38;5;132;01m{\u001B[39;00mvariance_over_range(f,\u001B[38;5;250m \u001B[39m\u001B[38;5;241m10\u001B[39m)\u001B[38;5;132;01m}\u001B[39;00m\u001B[38;5;124m\"\u001B[39m)\n",
      "Cell \u001B[0;32mIn[2], line 17\u001B[0m, in \u001B[0;36mvariance_over_range\u001B[0;34m(f, N, extent)\u001B[0m\n\u001B[1;32m     14\u001B[0m \u001B[38;5;28;01mdef\u001B[39;00m \u001B[38;5;21mvariance_over_range\u001B[39m(f, N, extent\u001B[38;5;241m=\u001B[39m\u001B[38;5;241m2\u001B[39m \u001B[38;5;241m*\u001B[39m np\u001B[38;5;241m.\u001B[39mpi):    \n\u001B[1;32m     15\u001B[0m     values \u001B[38;5;241m=\u001B[39m tqdm([(x, y) \u001B[38;5;28;01mfor\u001B[39;00m x \u001B[38;5;129;01min\u001B[39;00m np\u001B[38;5;241m.\u001B[39mlinspace(\u001B[38;5;241m0\u001B[39m, extent, N) \u001B[38;5;28;01mfor\u001B[39;00m y \u001B[38;5;129;01min\u001B[39;00m  np\u001B[38;5;241m.\u001B[39mlinspace(\u001B[38;5;241m0\u001B[39m, extent, N)])\n\u001B[0;32m---> 17\u001B[0m     res \u001B[38;5;241m=\u001B[39m np\u001B[38;5;241m.\u001B[39marray(\u001B[38;5;28mlist\u001B[39m(\u001B[43map\u001B[49m(\u001B[38;5;28;01mlambda\u001B[39;00m p: variance(f, p, \u001B[38;5;241m10\u001B[39m), values)))\n\u001B[1;32m     18\u001B[0m     \u001B[38;5;28;01mreturn\u001B[39;00m np\u001B[38;5;241m.\u001B[39mvar(res)\n",
      "\u001B[0;31mNameError\u001B[0m: name 'ap' is not defined"
     ]
    }
   ],
   "execution_count": 3
  },
  {
   "metadata": {},
   "cell_type": "code",
   "outputs": [],
   "execution_count": null,
   "source": "",
   "id": "52e1c6f004b513d6"
  }
 ],
 "metadata": {
  "kernelspec": {
   "display_name": "Python 3",
   "language": "python",
   "name": "python3"
  },
  "language_info": {
   "codemirror_mode": {
    "name": "ipython",
    "version": 2
   },
   "file_extension": ".py",
   "mimetype": "text/x-python",
   "name": "python",
   "nbconvert_exporter": "python",
   "pygments_lexer": "ipython2",
   "version": "2.7.6"
  }
 },
 "nbformat": 4,
 "nbformat_minor": 5
}
